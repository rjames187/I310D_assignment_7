{
 "cells": [
  {
   "cell_type": "markdown",
   "id": "69693453",
   "metadata": {},
   "source": [
    "# Data Collection\n",
    "\n",
    "Website: https://en.wikipedia.org/wiki/List_of_wars:_1500%E2%80%931799"
   ]
  },
  {
   "cell_type": "markdown",
   "id": "47ea2dd7",
   "metadata": {},
   "source": [
    "## Import libraries"
   ]
  },
  {
   "cell_type": "code",
   "execution_count": 2,
   "id": "4f867141",
   "metadata": {},
   "outputs": [
    {
     "name": "stdout",
     "output_type": "stream",
     "text": [
      "BeautifulSoup and Pandas are already installed and imported\n"
     ]
    }
   ],
   "source": [
    "try:\n",
    "    from bs4 import BeautifulSoup\n",
    "    import pandas\n",
    "    print (\"BeautifulSoup and Pandas are already installed and imported\")\n",
    "except:\n",
    "    import sys\n",
    "    !conda install --yes --prefix {sys.prefix} bs4\n",
    "    !conda install --yes --prefix {sys.prefix} pandas\n",
    "    from bs4 import BeautifulSoup\n",
    "    import pandas\n",
    "    print (\"Either BeautifulSoup or Pandas were not found. Installed them and imported\")\n",
    "\n",
    "import requests"
   ]
  },
  {
   "cell_type": "markdown",
   "id": "1a7c9d4e",
   "metadata": {},
   "source": [
    "## Request web page and parse HTML tree"
   ]
  },
  {
   "cell_type": "code",
   "execution_count": 3,
   "id": "c6bf35f2",
   "metadata": {},
   "outputs": [
    {
     "name": "stdout",
     "output_type": "stream",
     "text": [
      "HTML doc requested successfully\n",
      "HTML tree parsed successfully\n"
     ]
    }
   ],
   "source": [
    "response = requests.get('https://en.wikipedia.org/wiki/List_of_wars:_1500%E2%80%931799')\n",
    "print('HTML doc requested successfully')\n",
    "\n",
    "bs = BeautifulSoup(response.content, 'html.parser')\n",
    "print('HTML tree parsed successfully')"
   ]
  },
  {
   "cell_type": "markdown",
   "id": "00ba447d",
   "metadata": {},
   "source": [
    "# Data Extraction"
   ]
  },
  {
   "cell_type": "code",
   "execution_count": 4,
   "id": "0e78fd42",
   "metadata": {},
   "outputs": [],
   "source": [
    "# function for extracting the nth table in an html document\n",
    "# returns raw data in form of a list of line strings\n",
    "def extract_nth_table(bs, n):\n",
    "    raw_data = []\n",
    "    table = bs.select(f'table:nth-of-type({n})')\n",
    "    for row in table:\n",
    "        line = row.text\n",
    "        raw_data.append(line)\n",
    "    return raw_data"
   ]
  },
  {
   "cell_type": "code",
   "execution_count": 9,
   "id": "140643d4",
   "metadata": {},
   "outputs": [
    {
     "name": "stdout",
     "output_type": "stream",
     "text": [
      "['\\n\\nStart\\n\\nFinish\\n\\nName of Conflict\\n\\nBelligerents\\n\\n\\nVictorious party (if applicable)\\n\\nDefeated party (if applicable)\\n\\n\\n1700\\n\\n1721\\n\\nGreat Northern War\\n\\n Tsardom of Russia\\n Kalmyk Khanate\\n Cossack Hetmanate\\n\\xa0Denmark–Norway(1700, 1709–20) \\xa0Electorate of Saxony(1700–06, 1709–) Poland–Lithuania (1700–04, 1709–)\\n\\n\\n\\xa0Kingdom of Prussia (1715–20)\\xa0Electorate of Hanover (1715–19)\\xa0Great Britain(1717–19)\\n\\n\\n Swedish Empire\\n Holstein-Gottorp\\n\\n Poland–Lithuania (1704–09) Ottoman Empire (1710–14) Cossack Hetmanate (1708–09)\\xa0England (1700)\\xa0Great Britain (1719–21)\\xa0Dutch Republic (1700) Duchy of Brunswick-Lüneburg (1700)\\n\\n\\n\\n1701\\n\\n1701\\n\\nBattle of Dartsedo\\n\\n\\xa0Qing dynasty\\n\\nKhoshut Khanate\\n\\n\\n1701\\n\\n1714\\n\\nWar of the Spanish Succession\\n\\n Holy Roman Empire:\\n Austria\\n\\xa0Prussia\\n\\xa0Hanover\\n\\n\\xa0England (until 1707)\\n\\xa0Great Britain (from 1707)[15]\\n\\xa0Dutch Republic\\n\\xa0Duchy of Savoy\\n Kingdom of Portugal\\n Spain loyal to Charles\\n\\n\\n\\n\\xa0Kingdom of France\\n Spain loyal to Philip\\n\\xa0Bavaria (until 1704)\\n\\n\\n\\n1702\\n\\n1713\\n\\nQueen Anne\\'s WarPart of the War of the Spanish Succession\\n\\n\\xa0England (before 1707)[16]\\n English America\\n\\xa0Great Britain (after 1707)[16]\\n\\n British America\\n Muscogee (Creek)  Chickasaw  Yamasee\\n\\n\\n\\xa0France\\n\\xa0New France\\n\\xa0Spain\\n\\n New Spain\\n Wabanaki Confederacy Caughnawaga Mohawk Choctaw\\xa0Timucua Apalachee Natchez\\n\\n\\n\\n1702\\n\\n1715\\n\\nCamisard Rebellion\\n\\n\\xa0France\\n\\nHuguenot Rebels\\n\\n\\n1703\\n\\n1704\\n\\nOttoman invasion of western Georgia (1703)\\n\\n Ottoman Empire\\n\\n Kingdom of Imereti  Principality of Guria Principality of Mingrelia\\n\\n\\n1703\\n\\n1705\\n\\nNaqib al-Ashraf revolt\\n\\n Ottoman Empire\\n\\n Janissaries\\n\\n\\n1703\\n\\n1711\\n\\nRákóczi\\'s War of Independence\\n\\n Austria\\n\\n Kurucs (Kingdom of Hungary)\\xa0Kingdom of France\\n\\n\\n1704\\n\\n1704\\n\\nKuridža\\'s Rebellion\\n\\n\\xa0Republic of Venice\\n\\nOrthodox peasants\\n\\n\\n1704\\n\\n1706\\n\\nCivil war in Poland (1704–1706) Part of the Great North War\\n\\n Warsaw Confederation\\n\\n Sandomierz Confederation\\n\\n\\n1704\\n\\n1708\\n\\nFirst Javanese War of Succession\\n\\n\\xa0Dutch East India Company\\n\\n Mataram Sultanate\\n\\n\\n1704\\n\\n1711\\n\\nBashkir Uprising (1704–1711)\\n\\n\\xa0Russia\\n\\nBashkir rebels\\n\\n\\n1705\\n\\n1706\\n\\nBavarian People\\'s Uprising\\n\\n Austria\\n\\n Bavarian peasants\\n\\n\\n1707\\n\\n1707\\n\\nMughal war of succession (1707)\\n\\n Faction of Bahadur Shah I\\n\\n Faction of Muhammad Azam Shah   Faction of Muhammad Kam Bakhsh\\n\\n\\n1707\\n\\n1708\\n\\nBulavin Rebellion\\n\\n\\xa0Russia\\n\\nPeasants\\n\\n\\n1707\\n\\n1709\\n\\nWar of the Emboabas\\n\\n\\xa0Kingdom of Portugal Portuguese settlers Early Brazilian settlers\\n\\n Bandeirantes Paulistas\\n\\n\\n1708\\n\\n1708\\n\\nKanzhal War (1708)\\n\\n Kabardia\\n\\n Crimean Khanate Ottoman Empire\\n\\n\\n1708\\n\\n1709\\n\\nComacchio war\\xa0[de]\\n\\n Austria\\n\\n\\xa0Papal States\\n\\n\\n1709\\n\\n1722\\n\\nHotaki–Safavid War\\n\\n Hotak dynasty\\n\\n Safavid dynasty\\n\\n\\n1710\\n\\n1711\\n\\nPruth River Campaign\\n\\n Ottoman Empire\\n Crimean Khanate\\n\\xa0Wallachia\\n Swedish Empire\\n Cossack Hetmanate (fraction of Pylyp Orlyk) Zaporizhian Sich\\n\\n\\n Tsardom of Russia\\n Cossack Hetmanate (fraction of Ivan Skoropadsky)\\xa0Moldavia\\n\\n\\n\\n1711\\n\\n1711\\n\\nCary\\'s Rebellion\\n\\n Province of Carolina\\n\\nParty of Edward Hyde\\n\\n\\n1711\\n\\n1711\\n\\n1711 Karamanli coup\\n\\n Party of Ahmed Karamanli\\n\\n Ottoman Tripolitania\\n\\n\\n1711\\n\\n1711\\n\\nBattle of Ain Dara\\n\\n Shihab dynasty  Jumblatt clan of Chouf  Talhuq clan of Gharb  Nakad clan of Manasif  Imad clan of Arqub \\nAbd al-Malik clan of Jurd  Abu\\'l Lama clan of Matn Khazen clan of Keserwan\\n\\n\\nAlam al-Din clan  Arslan clan of Gharb  Sawaf clan of Matn\\n\\n\\n1711\\n\\n1715\\n\\nTuscarora War\\n\\n Colonial militia of North Carolina  Colonial militia of South Carolina   Yamasee   Northern Tuscarora  Apalachee  \\xa0Catawba  Cherokee\\n\\n Southern Tuscarora Pamplico Cothechney Coree Mattamuskeet Matchepungo\\n\\n\\n1712\\n\\n1712\\n\\n1712 Huilliche rebellion\\n\\n Spanish Empire\\n\\nHuilliches\\n\\n\\n1712\\n\\n1712\\n\\nNew York Slave Revolt of 1712\\n\\n\\xa0Kingdom of Great Britain\\n\\nSlaves\\n\\n\\n1712\\n\\n1712\\n\\nToggenburg War\\n\\n Canton of Zürich   Canton of Bern \\n Toggenburg rebels   City of Geneva \\n Principality of Neuchâtel\\n\\n\\n Abbey of Saint Gall   Canton of Lucerne \\n Canton of Uri   Canton of Schwyz \\n Canton of Unterwalden   Canton of Zug \\n Valais   Freie Ämter\\n\\n\\n\\n1712\\n\\n1716\\n\\nFirst Fox War\\n\\n\\xa0France\\n\\nFox people\\n\\n\\n1713\\n\\n1714\\n\\nWar of the CatalansPart of the War of the Spanish Succession\\n\\n\\xa0Spain\\xa0France\\n\\n Principality of Catalonia\\n\\n\\n1714\\n\\n1718\\n\\nOttoman–Venetian War (1714–18)\\n\\n Ottoman Empire\\n\\n\\xa0Republic of Venice Austria\\xa0Portugal\\xa0Order of Malta\\xa0Papal States\\xa0Spain[17] Himariotes\\n\\n\\n1715\\n\\n1717\\n\\nYamasee War\\n\\n Colonial militia of South Carolina   Colonial militia of North Carolina  Colonial militia of VirginiaCatawba (from 1715) Cherokee (from 1716)\\n\\n Yamasee  Ochese Creeks Catawba (until 1715) Cherokee (until 1716)  Waxhaw Santee\\n\\n\\n1715\\n\\n1716\\n\\nJacobite rising of 1715Also called \"The Fifteen\"\\n\\n British Government forces\\n\\n Scottish and English Jacobite Rebels\\n\\n\\n1717\\n\\n1717\\n\\n1717 Omani invasion of Bahrain\\n\\n Sultanate of Muscat\\n\\n Safavids Bahrain\\n\\n\\n1718\\n\\n1720\\n\\nWar of the Quadruple Alliance\\n\\n\\xa0Great Britain\\xa0France Austria \\xa0Dutch Republic \\xa0Savoy\\n\\n\\xa0Spain\\n Jacobites\\n\\n\\n\\n1719\\n\\n1723\\n\\nSecond Javanese War of Succession\\n\\n Mataram Sultanate\\n Dutch East India Company\\n\\n\\n\\nRival claimants to Mataram throne\\nRebel Princes\\n\\n\\n1720\\n\\n1720\\n\\nChinese expedition to Tibet (1720)\\n\\n\\xa0Qing dynasty\\n\\nDzungar Khanate\\n\\n\\n1721\\n\\n1721\\n\\nAttingal Outbreak\\n\\n British East India Company\\n\\nIndian Rebels\\n\\n\\n1721\\n\\n1735\\n\\nRevolt of the Comuneros (Paraguay)\\n\\n Spanish Empire\\n\\nAnti-Jesuits\\n\\n\\n1721\\n\\n1763\\n\\nChickasaw Wars\\n\\n\\xa0Great Britain Chickasaw\\n\\n\\xa0FranceChoctawIllini\\n\\n\\n1722\\n\\n1725\\n\\nFather Rale\\'s War\\n\\n New England Colonies Mohawk\\n\\n Wabanaki ConfederacyAbenakiPequawket MiꞌkmaqMaliseet\\n\\n\\n1722\\n\\n1723\\n\\nRusso-Persian War (1722–1723)\\n\\n\\xa0Russian Empire Ukrainian Cossacks Kingdom of Kartli Kabardians Kalmyk KhanateShamkhalate of TarkiTabasaran principality\\n\\n Safavid dynasty\\n\\n\\n1722\\n\\n1727\\n\\nOttoman–Hotaki War (1722–1727)\\n\\n Ottoman Empire\\n\\n Hotak dynasty\\n\\n\\n1725\\n\\n1745\\n\\nSaltpeter Wars\\n\\nMüllerisch Faction\\n\\nSalpterisch Faction\\n\\n\\n1726\\n\\n1727\\n\\nAppeal War\\n\\n County of East Frisia\\n\\nEstates of East Frisia\\n\\n\\n1727\\n\\n1729\\n\\nAnglo-Spanish War (1727–1729)\\n\\n\\xa0Spain\\n\\n\\xa0Great Britain\\n\\n\\n1728\\n\\n1733\\n\\nSecond Fox War\\n\\n\\xa0France\\n\\nFox people\\n\\n\\n1730\\n\\n1730\\n\\nPatrona Halil Revolt\\n\\n Ottoman Empire\\n\\n Janissaries\\n\\n\\n1730\\n\\n1735\\n\\nOttoman–Persian War (1730–1735)\\n\\n Safavid dynasty\\n\\n Ottoman Empire\\n\\n\\n1732\\n\\n1736\\n\\nKovenu war[18]\\n\\n Anlo\\n\\nAnexo\\n\\n\\n1733\\n\\n1733\\n\\n1733 slave insurrection on St. John\\n\\n Danish West India Company\\n\\nSlaves\\n\\n\\n1733\\n\\n1738\\n\\nWar of the Polish Succession\\n\\n Poland loyal to Stanisław Leszczyński\\n\\xa0France\\n Spain\\n Sardinia\\n\\xa0Duchy of Parma\\n\\n\\n Poland loyal to Augustus\\n\\xa0Russia\\n Austria\\n\\xa0Saxony\\n\\xa0Prussia\\n\\n\\n\\n1735\\n\\n1736\\n\\nMiao Rebellion (1735–36)\\n\\n\\xa0Qing dynasty\\n\\nMiao rebels\\n\\n\\n1735\\n\\n1737\\n\\nSpanish–Portuguese War (1735–1737)\\n\\n Portuguese Empire\\n\\n Spanish Empire\\n\\n\\n1735\\n\\n1739\\n\\nRusso–Turkish War (1735–1739)\\n\\n\\xa0Russia\\n Cossack Hetmanate\\n Austria\\n\\n\\n Ottoman Empire\\n Crimean Khanate\\n\\n\\n1735\\n\\n1740\\n\\nBashkir Rebellion\\n\\n\\xa0Russian Empire\\n\\nBashkirs\\n\\n\\n1738\\n\\n1739\\n\\nNader Shah\\'s invasion of India\\n\\n Afsharid dynasty\\n\\n Mughal Empire\\n\\n\\n1739\\n\\n1739\\n\\nStono Rebellion\\n\\n\\xa0Kingdom of Great Britain\\n\\nSlaves\\n\\n\\n1739\\n\\n1748\\n\\nWar of Jenkins\\' EarPart of the War of the Austrian Succession\\n\\n Spanish Empire\\n\\n\\xa0Kingdom of Great Britain\\n\\n\\n1740\\n\\n1748\\n\\nWar of the Austrian Succession\\n\\n\\xa0France\\xa0Prussia Spain\\xa0Bavaria (1741–45)\\xa0Saxony (1741–42) Sicily Naples\\xa0Republic of Genoa Sweden (1741–43)\\n\\n Austria\\xa0Great Britain\\xa0Hanover\\xa0Dutch Republic\\xa0Saxony (1743–45) \\xa0Sardinia\\xa0Russia (1741–43, 1748)\\n\\n\\n1740\\n\\n1742\\n\\nFirst Silesian War\\n\\n Prussia\\n\\n Austria\\n\\n\\n1741\\n\\n1743\\n\\nJava War (1741–1743)\\n\\n Dutch East India Company\\n\\nJavanese rebels\\n\\n\\n1741\\n\\n1743\\n\\nRusso-Swedish War (1741–1743)Part of the War of the Austrian Succession\\n\\n\\xa0Russia\\n\\n Sweden\\n\\n\\n1743\\n\\n1746\\n\\nOttoman–Persian War (1743–1746)\\n\\n Afsharid dynasty\\n\\n Ottoman Empire\\n\\n\\n1744\\n\\n1829\\n\\nDagohoy rebellion\\n\\n Spain\\n\\n Boholano nation\\n\\n\\n1744\\n\\n1747\\n\\nChukchi War\\n\\n\\xa0Russian Empire\\n\\nChukchis\\n\\n\\n1744\\n\\n1748\\n\\nKing George\\'s WarPart of the War of the Austrian Succession\\n\\n\\xa0Great Britain British America Iroquois Confederacy\\n\\n\\xa0France\\xa0New France Wabanaki Confederacy\\n\\n\\n1744\\n\\n1745\\n\\nSecond Silesian WarPart of the War of the Austrian Succession\\n\\n\\xa0Prussia\\n\\n Austria\\n\\n\\n1745\\n\\n1746\\n\\nJacobite rising of 1745Also called \"The Forty-Five\"\\n\\n\\xa0Great Britain\\n\\n Jacobites\\xa0Kingdom of France\\n\\n\\n1746\\n\\n1748\\n\\nFirst Carnatic WarPart of the War of the Austrian Succession\\n\\n\\xa0Kingdom of Great Britain\\n\\n\\xa0Kingdom of France\\n French East India Company\\n\\n\\n1747\\n\\n1750\\n\\nChoctaw Civil War\\n\\n Choctaw Eastern Division\\n\\n Choctaw Western Division\\n\\n\\n1747\\n\\n1796\\n\\nCivil War between Afsharid and Qajar\\n\\n Afsharid dynasty\\n\\n Qajar dynasty\\n\\n\\n1749\\n\\n1754\\n\\nSecond Carnatic War\\n\\n\\xa0Great Britain\\n British East India Company Sepoys Maratha allies\\n\\n\\n\\xa0France\\n French East India Company Nawab of Arcot\\n\\n\\n\\n1749\\n\\n1757\\n\\nThird Javanese War of Succession\\n\\n Mataram Sultanate (until 1755) Yogyakarta Sultanate (from 1755) Surakarta Sunanate (from 1755) Dutch East India Company\\n\\nAnti-Dutch rebels\\n\\n\\n1752\\n\\n1757\\n\\nKonbaung–Hanthawaddy War\\n\\n Burmese Empire\\n\\nRestored Hanthawaddy Kingdom   French East India Company\\n\\n\\n1754\\n\\n1763\\n\\nFrench and Indian WarPart of the Seven Years\\' War\\n\\n\\xa0Great Britain   British America\\n Iroquois Confederacy\\n Wyandot\\n\\xa0Catawba  Cherokee (before 1758))\\n Mingos (briefly)\\n\\n\\n\\xa0France  \\xa0New France\\n Wabanaki Confederacy \\n Abenaki \\n Algonquin\\n Caughnawaga Mohawk Faction \\nLenape\\n Miꞌkmaq\\n Ojibwa\\n Odawa\\n Shawnee\\n\\n\\n\\n1756\\n\\n1756\\n\\nGuaraní War\\n\\n\\xa0Portugal\\xa0Spain\\n\\nGuaraní Tribes\\n\\n\\n1756\\n\\n1763\\n\\nSeven Years\\' War\\n\\n\\n\\xa0Great Britain\\n\\xa0Hanover\\n Prussia\\n Brunswick-Wolfenbüttel\\n Iroquois Confederacy\\n\\xa0Portugal (from 1761)\\n Hesse-Kassel\\n Schaumburg-Lippe\\n Wyandot\\nCatawba\\n Cherokee (before 1758)\\n\\n\\n\\n\\xa0France\\n Austria\\n\\xa0Russia (until 1762)\\n\\xa0Spain (from 1761)\\n Sweden (1757–62)\\n\\xa0Saxony\\n Mughal Empire (from 1757)\\n Wabanaki Confederacy\\n Caughnawaga Mohawk Faction\\n Algonquin\\n Abenaki\\nLenape\\n Ojibwa\\n Odawa\\n Shawnee\\n\\n\\n\\n1756\\n\\n1763\\n\\nThird Silesian WarPart of the Seven Years\\' War\\n\\n\\xa0Prussia\\n\\n Austria\\n\\n\\n1757\\n\\n1763\\n\\nThird Carnatic WarPart of the Seven Years\\' War\\n\\n British East India Company\\n\\n Principality of Bengal French East India Company Dutch East India Company\\n\\n\\n1757\\n\\n1762\\n\\nPomeranian WarPart of the Seven Years\\' War\\n\\n Sweden\\xa0Russia\\n\\n\\xa0Prussia\\n\\n\\n1757\\n\\n1759\\n\\nRevolt of the Altishahr Khojas\\n\\n\\xa0Qing dynasty\\n\\nAltishahr Khojas\\n\\n\\n1758\\n\\n1761\\n\\nAnglo-Cherokee WarPart of the French and Indian War\\n\\n\\xa0Great Britain\\n\\n Cherokee\\n\\n\\n1759\\n\\n1760\\n\\nBurmese–Siamese War (1759–1760)\\n\\n Burmese Empire\\n\\n Siam\\n\\n\\n1760\\n\\n1760\\n\\nTacky\\'s War\\n\\n\\xa0Great Britain\\n\\nSlaves\\n\\n\\n1761\\n\\n1761\\n\\nCanek Revolt\\n\\n\\xa0Spain\\n\\nMayans\\n\\n\\n1762\\n\\n1763\\n\\nFantastic WarPart of the Seven Years\\' War\\n\\n\\xa0Portugal\\xa0Great Britain\\n\\n\\xa0Spain \\xa0France\\n\\n\\n1763\\n\\n1764\\n\\nBerbice slave uprising\\n\\n\\xa0Dutch Republic\\n\\nBerbice slaves\\n\\n\\n1763\\n\\n1766\\n\\nPontiac\\'s War\\n\\n\\xa0Great Britain\\n\\nPontiac\\'s confederacy Seneca\\n\\n\\n1763\\n\\n1864\\n\\nRusso-Circassian WarPart of the Caucasian War\\n\\n\\xa0Russian Empire\\n\\n Circassia Caucasian Imamate (Western)Sadzen\\n\\n\\n1765\\n\\n1765\\n\\nStrilekrigen\\n\\n\\xa0Denmark–Norway\\n\\nNorwegian Peasants\\n\\n\\n1765\\n\\n1767\\n\\nBurmese–Siamese War (1765–67)\\n\\nBurmese Empire\\n\\n Siam\\n\\n\\n1765\\n\\n1769\\n\\nSino-Burmese War\\n\\n Burmese Empire\\n\\n\\xa0Qing dynasty\\n\\n\\n1765\\n\\n1771\\n\\nWar of the Regulation\\n\\n Province of North Carolina\\n\\nRegulators\\n\\n\\n1766\\n\\n1792\\n\\nMysorean invasion of Kerala\\n\\n Mysore  Cannanore\\n\\n British East India Company Zamorin of Calicut \\xa0Travancore\\n\\n\\n1767\\n\\n1769\\n\\nFirst Anglo-Mysore War\\n\\n Mysore\\n\\n British East India Company Maratha Confederacy Nawab of Arcot Hyderabad State\\n\\n\\n1768\\n\\n1768\\n\\nLouisiana Rebellion of 1768\\n\\n Spanish Empire\\n\\n Creole rebels  German rebels\\n\\n\\n1768\\n\\n1769\\n\\nKoliyivshchyna\\n\\n\\xa0Russian Empire   Polish–Lithuanian Commonwealth\\n\\nHaydamak Cossacks\\n\\n\\n1768\\n\\n1769\\n\\nFrench conquest of Corsica\\n\\n\\xa0France\\n\\n Corsican Republic\\n\\n\\n1768\\n\\n1774\\n\\nRusso-Turkish War (1768–1774)\\n\\n\\xa0Russian Empire\\n Zaporozhian Host\\n Greek insurgents\\n Kingdom of Kartli-Kakheti\\n Kingdom of Imereti\\n\\n\\n Ottoman Empire\\n Crimean Khanate\\n\\n\\n1768\\n\\n1772\\n\\nBar Confederation\\n\\n\\xa0Russian Empire\\n\\n Bar Confederation\\xa0Kingdom of France\\n\\n\\n1769\\n\\n1773\\n\\nFirst Carib War\\n\\n\\xa0British Empire\\n\\nBlack Caribs\\n\\n\\n1769\\n\\n1772\\n\\nDanish-Algerian War\\n\\n Ottoman Algeria\\n\\n\\xa0Denmark-Norway\\n\\n\\n1769\\n\\n1806\\n\\nMoamoria rebellion\\n\\n Kingdom of Ahom\\n\\nMorans\\n\\n\\n1771\\n\\n1771\\n\\nMoscow plague riot of 1771\\n\\n\\xa0Russian Empire\\n\\nRioters\\n\\n\\n1771\\n\\n1785\\n\\nTây Sơn–Nguyễn War (1771–1785)\\n\\nTây Sơn dynasty\\n\\nNguyen lords\\n\\n\\n1771\\n\\n1802\\n\\nFakir-Sannyasi rebellion\\n\\n Company Raj\\n\\nFakirs  Sannyasis\\n\\n\\n1773\\n\\n1775\\n\\nPugachev\\'s Rebellion\\n\\n\\xa0Russian Empire\\n\\nCossack and peasant rebelsTatar and Bashkir nobles\\n\\n\\n1774\\n\\n1774\\n\\nLord Dunmore\\'s War\\n\\n Colony of Virginia\\n\\n Shawnees   Mingos\\n\\n\\n1775\\n\\n1775\\n\\nRising of the Priests\\n\\n Order of Saint John\\n\\nClergy\\n\\n\\n1775\\n\\n1776\\n\\nBurmese–Siamese War (1775–1776)\\n\\n Siam\\n\\nBurma\\n\\n\\n1775\\n\\n1782\\n\\nFirst Anglo-Maratha War\\n\\n British East India Company\\n\\n Maratha Empire\\n\\n\\n1775\\n\\n1783\\n\\nAmerican Revolutionary War\\n\\n\\xa0United States \\xa0France (1778–83) Spain (1779–83) \\xa0Dutch Republic (1780–83) \\n\\nCo-belligerents\\n Mysore (1779–83)\\n Vermont (1777–83)\\n Oneida\\n Tuscarora\\nWatauga Association\\nCatawba\\n Lenape\\n\\n\\n\\xa0Great Britain\\n Loyalists\\nGerman auxiliaries\\n\\nCo-belligerents\\n Iroquois Confederacy\\n\\nOnondaga\\nMohawk\\nCayuga\\nSeneca\\n Cherokee\\n\\n\\n\\n1776\\n\\n1777\\n\\nSpanish–Portuguese War (1776–1777)\\n\\n Spanish Empire\\n\\n Portuguese Empire\\n\\n\\n1776\\n\\n1794\\n\\nChickamauga Wars (1776–1794)\\n\\n\\xa0United States\\n\\n Cherokee\\n\\n\\n1778\\n\\n1779\\n\\nWar of the Bavarian Succession\\n\\n Austria\\n\\n\\xa0Kingdom of Prussia\\xa0Electorate of Saxony\\n\\n\\n1779\\n\\n1783\\n\\nAnglo-Spanish WarPart of the American Revolutionary War\\n\\n Spain\\n\\n\\xa0Great Britain\\n\\n\\n1779\\n\\n1781\\n\\nFirst Xhosa War\\n\\n Dutch Cape Colony\\n\\nXhosa tribesmen\\n\\n\\n1780\\n\\n1784\\n\\nFourth Anglo-Dutch WarPart of the American Revolutionary War\\n\\n\\xa0Great Britain\\n\\n\\xa0Dutch Republic\\xa0France\\n\\n\\n1780\\n\\n1784\\n\\nSecond Anglo-Mysore War\\n\\n British East India Company\\xa0Great Britain\\xa0Hanover\\n\\nMysore\\xa0France\\xa0Dutch Republic\\n\\n\\n1781\\n\\n1781\\n\\nJahriyya revolt\\n\\n\\xa0Qing dynasty Khafiya Sufi Muslims\\n\\nJahriyya Sufi Muslims\\n\\n\\n1781\\n\\n1781\\n\\nRevolt of the Comuneros (New Granada)\\n\\n Viceroyalty of New Granada\\n\\nComuneros\\n\\n\\n1782\\n\\n1782\\n\\n1782 Sylhet uprising\\n\\n British East India Company\\n\\nSylheti Muslim rebels\\n\\n\\n1782\\n\\n1810\\n\\nUnification of Hawaii\\n\\n Kingdom of Hawai\\'i\\n\\nKingdom of Maui  Kingdom of Kauai  Kingdom of O\\'ahu\\n\\n\\n1783\\n\\n1783\\n\\n1782–83 unrest in Bahrain\\n\\nSheikhdom of Zubarah\\n\\n Zand dynasty\\n\\n\\n1783\\n\\n1783\\n\\nKuban Nogai Uprising\\n\\n\\xa0Russian Empire\\n\\nLesser Nogai Horde\\n\\n\\n1784\\n\\n1784\\n\\nOman-Zanzibar War\\n\\n Muscat and Oman\\n\\n Zanzibar\\n\\n\\n1784\\n\\n1784\\n\\nKettle War\\n\\n\\xa0Dutch Republic\\n\\n Austria\\n\\n\\n1784\\n\\n1784\\n\\nRevolt of Horea, Cloșca and Crișan\\n\\n Transylvania\\n\\nPeasant rebels\\n\\n\\n1785\\n\\n1785\\n\\nBattle of Rạch Gầm-Xoài Mút\\n\\nTây Sơn dynasty\\n\\n Siam Nguyễn lords\\n\\n\\n1785\\n\\n1786\\n\\nBurmese–Siamese War (1785–86)\\n\\n Siam\\n\\nBurma\\n\\n\\n1785\\n\\n1795\\n\\nNorthwest Indian War\\n\\n\\xa0United States\\n\\nWestern Confederacy British Canada\\n\\n\\n1786\\n\\n1786\\n\\nTây Sơn–Trịnh War\\n\\nTây Sơn dynasty\\n\\nTrịnh lords\\n\\n\\n1786\\n\\n1787\\n\\nLofthuus\\' Rebellion\\n\\n\\xa0Denmark-Norway\\n\\nNorwegian Peasants\\n\\n\\n1786\\n\\n1787\\n\\nShays\\' Rebellion\\n\\n\\xa0United States\\n\\nDaniel Shays and rebels\\n\\n\\n1787\\n\\n1787\\n\\nPrussian invasion of Holland\\n\\n\\xa0Prussia Orangists\\n\\n States of Holland Patriots\\n\\n\\n1787\\n\\n1787\\n\\nBurmese–Siamese War (1787)\\n\\nBurmese Empire\\n\\n Siam\\n\\n\\n1787\\n\\n1791\\n\\nAustro-Turkish War (1787–1791)\\n\\n Austria \\xa0Russia\\n\\n Ottoman Empire\\n\\n\\n1787\\n\\n1792\\n\\nRusso-Turkish War (1787–92)\\n\\n\\xa0Russian Empire\\n\\n Ottoman Empire\\n\\n\\n1787\\n\\n1802\\n\\nTây Sơn–Nguyễn War (1787–1802)\\n\\nNguyễn lords\\n\\nTây Sơn dynasty\\n\\n\\n1788\\n\\n1790\\n\\nRusso-Swedish War (1788–1790)\\n\\n Sweden\\n\\n\\xa0Russia\\n\\n\\n1788\\n\\n1789\\n\\nTheatre War\\n\\n\\xa0Denmark–Norway\\n\\n Sweden\\n\\n\\n1788\\n\\n1930s\\n\\nAustralian frontier wars\\n\\nEuropean settlers\\n\\nIndigenous Australians\\n\\n\\n1788\\n\\n1792\\n\\nSino-Nepalese War\\n\\n\\xa0Qing dynasty\\n\\n\\xa0Kingdom of Nepal\\n\\n\\n1788\\n\\n1789\\n\\nBattle of Ngọc Hồi-Đống Đa\\n\\n\\xa0Qing dynastyLê dynasty\\n\\nTây Sơn dynasty\\n\\n\\n1789\\n\\n1789\\n\\nMenashi-Kunashir Rebellion\\n\\n Tokugawa shogunate\\n\\nAinu rebels\\n\\n\\n1789\\n\\n1792\\n\\nThird Anglo-Mysore War\\n\\n British East India Company\\n Maratha Empire\\nHyderabad\\nTravancore\\n\\n\\n Mysore\\n\\n\\n1789\\n\\n1794\\n\\nQajar conquest of the Zand Dynasty\\n\\n Qajar dynasty\\n\\n Zand dynasty\\n\\n\\n1789\\n\\n1793\\n\\nSecond Xhosa War\\n\\n Dutch Cape Colony\\n\\nXhosa tribesmen\\n\\n\\n1789\\n\\n1791\\n\\nLiège Revolution\\n\\n Prince-Bishopric of Liège Austria\\n\\n Republic of Liège\\n\\n\\n1789\\n\\n1790\\n\\nBrabant Revolution\\n\\n Austrian Netherlands\\n\\n Brabant rebels (1789–90) United Belgian States (1790)\\n\\n\\n1790\\n\\n1802\\n\\nPemulwuy Resistance\\n\\n\\xa0British Empire\\n\\nPemulwuy\\n\\n\\n1790\\n\\n1790\\n\\nSaxon Peasants\\' Revolt\\n\\n Electorate of Saxony\\n\\nPeasant rebels\\n\\n\\n1791\\n\\n1804\\n\\nHaitian Revolution\\n\\n Haiti \\xa0Great Britain Spain (1793–1795) French royalists\\n\\n\\xa0France Polish Legions\\n\\n\\n1791\\n\\n1794\\n\\nWhiskey Rebellion\\n\\n\\xa0United States\\n\\nFrontier tax protestors\\n\\n\\n1792\\n\\n1792\\n\\nDundiya rebellion\\n\\n Kingdom of Ahom\\n\\nParty of Haradutta Bujarbarua\\n\\n\\n1792\\n\\n1792\\n\\nPolish–Russian War of 1792\\n\\n\\xa0Russia Targowica Confederates\\n\\n Polish–Lithuanian Commonwealth\\n\\n\\n1792\\n\\n1792\\n\\nBurmese–Siamese War (1792)\\n\\nBurmese Empire\\n\\n Siam\\n\\n\\n1792\\n\\n1797\\n\\nWar of the First CoalitionPart of the French Revolutionary Wars\\n\\n\\xa0France Spain (from 1796)\\xa0Batavian Republic (from 1795) French satellite states Polish Legions (from 1795)[19]\\n\\nFirst Coalition:\\n Austria Holy Roman Empire[20]\\xa0Prussia (until 1795)\\xa0Great Britain French Royalists Spain (until 1795)\\xa0Portugal\\xa0Sardinia Naples and SicilyOther Italian states[21] Ottoman Empire\\xa0Dutch Republic (until 1795)\\n\\n\\n\\n1793\\n\\n1796\\n\\nWar in the VendéePart of the War of the First Coalition\\n\\n\\xa0France\\n\\n Vendéens  Chouans Émigrés\\xa0Great Britain\\n\\n\\n1793\\n\\n1795\\n\\nTripolitanian civil war\\n\\n Karamanli dynasty\\n\\n Ottoman Tripolitania\\n\\n\\n1793\\n\\n1806\\n\\nCotiote War\\n\\n British East India Company\\n\\nKingdom of Kottayam\\n\\n\\n1794\\n\\n1794\\n\\nNickajack Expedition\\n\\nAmerican Frontiersmen\\n\\n Chickamauga Cherokee\\n\\n\\n1794\\n\\n1794\\n\\nPazvantoğlu Rebellion\\n\\n Ottoman Empire\\n\\nMercenaries\\n\\n\\n1794\\n\\n1794\\n\\nKościuszko Uprising\\n\\n\\xa0Russia\\xa0Prussia\\n\\n Polish–Lithuanian Commonwealth\\n\\n\\n1794\\n\\n1804\\n\\nWhite Lotus Rebellion\\n\\n\\xa0Qing dynasty\\n\\nWhite Lotus society\\n\\n\\n1795\\n\\n1795\\n\\nCuraçao Slave Revolt of 1795\\n\\n\\xa0Batavian Republic\\n\\nSlaves\\n\\n\\n1795\\n\\n1795\\n\\nBattle of Krtsanisi\\n\\nPersian Empire* Ganja Khanate* Erivan Khanate\\n\\nKingdom of Kartli-Kakheti Imereti\\n\\n\\n1795\\n\\n1796\\n\\nFédon\\'s rebellion\\n\\n\\xa0Britain\\n\\nGrenadian Republicans\\n\\n\\n1795\\n\\n1816\\n\\nHawkesbury and Nepean Wars\\n\\n\\xa0Kingdom of Great Britain\\n\\nDharug NationEora NationTharawal NationGandangara Nation\\n\\n\\n1795\\n\\n1797\\n\\nSecond Carib War\\n\\n\\xa0Britain\\n\\nCarib slaves\\n\\n\\n1795\\n\\n1806\\n\\nMiao Rebellion (1795–1806)\\n\\n\\xa0Qing dynasty\\n\\nMiao rebels\\n\\n\\n1796\\n\\n1796\\n\\nPersian Expedition of 1796\\n\\n\\xa0Russian Empire\\n\\n Persian Empire\\n\\n\\n1796\\n\\n1808\\n\\nAnglo-Spanish War (1796–1808)\\n\\n Spain\\n\\n\\xa0Great Britain\\n\\n\\n1797\\n\\n1797\\n\\nDenisko uprising\\n\\n Austria\\n\\n Polish Rebels\\n\\n\\n1797\\n\\n1797\\n\\nBurmese–Siamese War (1797)\\n\\n Siam\\n\\nBurma\\n\\n\\n1798\\n\\n1798\\n\\nPeasants\\' War (1798)\\n\\n\\xa0France\\n\\n Counter-revolutionary peasants\\n\\n\\n1798\\n\\n1802\\n\\nWar of the Second CoalitionPart of the French Revolutionary Wars\\n\\n\\xa0French Republic Spain Polish Legions\\xa0Denmark–Norway[22]French client republics:\\n\\xa0Batavian Republic\\n\\xa0Helvetic Republic\\n Cisalpine Republic\\n Roman Republic (until 1799)[23]\\n Parthenopaean Republic (1799)[24]\\n\\nSecond Coalition:\\n Austria Holy Roman Empire[20]\\xa0Great Britain (until 1801)\\xa0United Kingdom (from 1801)\\xa0Russia (until 1799) French Royalists\\xa0Portugal\\xa0Kingdom of Naples Ottoman Empire\\n\\n\\n\\n1798\\n\\n1800\\n\\nQuasi-War\\n\\n\\xa0United States\\n\\n\\xa0French Republic\\n\\n\\n1798\\n\\n1798\\n\\nIrish Rebellion of 1798\\n\\n British Army  Hessian mercenaries\\n\\n Society of United Irishmen Defenders\\xa0France\\n\\n\\n1798\\n\\n1799\\n\\nFourth Anglo-Mysore War\\n\\n British East India Company\\n Maratha Empire\\nHyderabad\\n Travancore\\n\\n\\n Mysore\\n\\n\\n1799\\n\\n1800\\n\\nWar of KnivesPart of Haitian Revolution\\n\\n Toussaint Louverture\\n\\n André Rigaud\\n\\n\\n1799\\n\\n1800\\n\\nFries\\'s Rebellion\\n\\n\\xa0United States\\n\\nPennsylvania Dutch Farmers\\n\\n\\n1799\\n\\n1803\\n\\nThird Xhosa War\\n\\n Cape Colony\\n\\nXhosa tribesmen\\n']\n"
     ]
    }
   ],
   "source": [
    "second_table_raw_data = extract_nth_table(bs, 2)\n",
    "third_table_raw_data = extract_nth_table(bs, 3)\n",
    "print(third_table_raw_data)"
   ]
  },
  {
   "cell_type": "code",
   "execution_count": null,
   "id": "d7becca3",
   "metadata": {},
   "outputs": [],
   "source": []
  }
 ],
 "metadata": {
  "kernelspec": {
   "display_name": "Python 3 (ipykernel)",
   "language": "python",
   "name": "python3"
  },
  "language_info": {
   "codemirror_mode": {
    "name": "ipython",
    "version": 3
   },
   "file_extension": ".py",
   "mimetype": "text/x-python",
   "name": "python",
   "nbconvert_exporter": "python",
   "pygments_lexer": "ipython3",
   "version": "3.9.13"
  }
 },
 "nbformat": 4,
 "nbformat_minor": 5
}
