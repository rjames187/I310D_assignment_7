{
 "cells": [
  {
   "cell_type": "markdown",
   "id": "69693453",
   "metadata": {},
   "source": [
    "# Data Collection\n",
    "\n",
    "Website: https://en.wikipedia.org/wiki/List_of_wars:_1500%E2%80%931799"
   ]
  },
  {
   "cell_type": "markdown",
   "id": "47ea2dd7",
   "metadata": {},
   "source": [
    "## Import libraries"
   ]
  },
  {
   "cell_type": "code",
   "execution_count": 1,
   "id": "4f867141",
   "metadata": {},
   "outputs": [
    {
     "name": "stdout",
     "output_type": "stream",
     "text": [
      "BeautifulSoup and Pandas are already installed and imported\n"
     ]
    }
   ],
   "source": [
    "try:\n",
    "    from bs4 import BeautifulSoup\n",
    "    import pandas\n",
    "    print (\"BeautifulSoup and Pandas are already installed and imported\")\n",
    "except:\n",
    "    import sys\n",
    "    !conda install --yes --prefix {sys.prefix} bs4\n",
    "    !conda install --yes --prefix {sys.prefix} pandas\n",
    "    from bs4 import BeautifulSoup\n",
    "    import pandas\n",
    "    print (\"Either BeautifulSoup or Pandas were not found. Installed them and imported\")\n",
    "\n",
    "import requests"
   ]
  },
  {
   "cell_type": "markdown",
   "id": "1a7c9d4e",
   "metadata": {},
   "source": [
    "## Request web page and parse HTML tree"
   ]
  },
  {
   "cell_type": "code",
   "execution_count": 2,
   "id": "c6bf35f2",
   "metadata": {},
   "outputs": [
    {
     "name": "stdout",
     "output_type": "stream",
     "text": [
      "html doc requested successfully\n",
      "HTML tree parsed successfully\n"
     ]
    }
   ],
   "source": [
    "response = requests.get('https://en.wikipedia.org/wiki/List_of_wars:_1500%E2%80%931799')\n",
    "print('HTML doc requested successfully')\n",
    "\n",
    "bs = BeautifulSoup(response.content, 'html.parser')\n",
    "print('HTML tree parsed successfully')"
   ]
  },
  {
   "cell_type": "markdown",
   "id": "00ba447d",
   "metadata": {},
   "source": [
    "# Data Extraction"
   ]
  },
  {
   "cell_type": "code",
   "execution_count": null,
   "id": "0e78fd42",
   "metadata": {},
   "outputs": [],
   "source": []
  }
 ],
 "metadata": {
  "kernelspec": {
   "display_name": "Python 3 (ipykernel)",
   "language": "python",
   "name": "python3"
  },
  "language_info": {
   "codemirror_mode": {
    "name": "ipython",
    "version": 3
   },
   "file_extension": ".py",
   "mimetype": "text/x-python",
   "name": "python",
   "nbconvert_exporter": "python",
   "pygments_lexer": "ipython3",
   "version": "3.9.13"
  }
 },
 "nbformat": 4,
 "nbformat_minor": 5
}
